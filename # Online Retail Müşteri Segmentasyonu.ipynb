{
 "cells": [
  {
   "cell_type": "markdown",
   "id": "eadeb096-c95b-4287-8926-56fa24746c44",
   "metadata": {},
   "source": [
    "## Proje: E-Ticaret Ürün Segmentasyonu"
   ]
  },
  {
   "cell_type": "markdown",
   "id": "e9938214-3034-4ed4-96b8-3ed6e81375d4",
   "metadata": {},
   "source": [
    "Amaç:\n",
    "Ürünleri satış performansı, sipariş sıklığı ve müşteri ilişkilerine göre gruplara (kümelere) ayırmak. Bu segmentasyon, pazarlama stratejileri için kullanılabilir."
   ]
  },
  {
   "cell_type": "markdown",
   "id": "c8abfff5-d670-4bdc-9725-332a7f4edeb2",
   "metadata": {},
   "source": [
    " ##  Gerekli Kütüphaneleri Yükle"
   ]
  },
  {
   "cell_type": "code",
   "execution_count": 1,
   "id": "936b6977-8fbb-4914-9f89-6ed13b1eee91",
   "metadata": {},
   "outputs": [],
   "source": [
    "import pandas as pd\n",
    "import numpy as np\n",
    "import matplotlib.pyplot as plt\n",
    "import seaborn as sns\n",
    "from sklearn.cluster import KMeans\n",
    "from sklearn.preprocessing import StandardScaler\n",
    "from sklearn.metrics import silhouette_score\n",
    "from sklearn.decomposition import PCA\n",
    "import warnings\n",
    "warnings.filterwarnings(\"ignore\")\n"
   ]
  },
  {
   "cell_type": "raw",
   "id": "57be8104-2eb0-42aa-a8f2-06749b5e235e",
   "metadata": {},
   "source": [
    "Sütun Adı\tAçıklama\n",
    "InvoiceNo\tFatura numarası (alışverişi temsil eder)\n",
    "StockCode\tÜrün kodu\n",
    "Description\tÜrün açıklaması\n",
    "Quantity\tSatılan ürün adedi\n",
    "InvoiceDate\tSatış tarihi\n",
    "UnitPrice\tBirim fiyat\n",
    "CustomerID\tMüşteri kimliği\n",
    "Country\tÜlke adı"
   ]
  },
  {
   "cell_type": "markdown",
   "id": "96702c51-3981-414a-8aae-effa6eac0be8",
   "metadata": {},
   "source": [
    "  ## Hedefimiz:\n",
    "Müşterilerin alışveriş davranışlarına göre segmentlere (kümelere) ayrılması."
   ]
  },
  {
   "cell_type": "code",
   "execution_count": 4,
   "id": "4b81e2f4-81a5-4828-921f-6fcdfe88ca71",
   "metadata": {},
   "outputs": [],
   "source": [
    "import pandas as pd\n",
    "\n",
    "# Excel dosyasını oku\n",
    "df = pd.read_excel(\"Online Retail.xlsx\")\n",
    "\n",
    "# CSV olarak kaydet\n",
    "df.to_csv(\"Online Retail.csv\", index=False, encoding='utf-8')  # veya ISO-8859-1\n"
   ]
  },
  {
   "cell_type": "code",
   "execution_count": 5,
   "id": "77ed005c-b820-4596-bad7-a00c2d7f690b",
   "metadata": {},
   "outputs": [
    {
     "data": {
      "text/html": [
       "<div>\n",
       "<style scoped>\n",
       "    .dataframe tbody tr th:only-of-type {\n",
       "        vertical-align: middle;\n",
       "    }\n",
       "\n",
       "    .dataframe tbody tr th {\n",
       "        vertical-align: top;\n",
       "    }\n",
       "\n",
       "    .dataframe thead th {\n",
       "        text-align: right;\n",
       "    }\n",
       "</style>\n",
       "<table border=\"1\" class=\"dataframe\">\n",
       "  <thead>\n",
       "    <tr style=\"text-align: right;\">\n",
       "      <th></th>\n",
       "      <th>InvoiceNo</th>\n",
       "      <th>StockCode</th>\n",
       "      <th>Description</th>\n",
       "      <th>Quantity</th>\n",
       "      <th>InvoiceDate</th>\n",
       "      <th>UnitPrice</th>\n",
       "      <th>CustomerID</th>\n",
       "      <th>Country</th>\n",
       "    </tr>\n",
       "  </thead>\n",
       "  <tbody>\n",
       "    <tr>\n",
       "      <th>0</th>\n",
       "      <td>536365</td>\n",
       "      <td>85123A</td>\n",
       "      <td>WHITE HANGING HEART T-LIGHT HOLDER</td>\n",
       "      <td>6</td>\n",
       "      <td>2010-12-01 08:26:00</td>\n",
       "      <td>2.55</td>\n",
       "      <td>17850.0</td>\n",
       "      <td>United Kingdom</td>\n",
       "    </tr>\n",
       "    <tr>\n",
       "      <th>1</th>\n",
       "      <td>536365</td>\n",
       "      <td>71053</td>\n",
       "      <td>WHITE METAL LANTERN</td>\n",
       "      <td>6</td>\n",
       "      <td>2010-12-01 08:26:00</td>\n",
       "      <td>3.39</td>\n",
       "      <td>17850.0</td>\n",
       "      <td>United Kingdom</td>\n",
       "    </tr>\n",
       "    <tr>\n",
       "      <th>2</th>\n",
       "      <td>536365</td>\n",
       "      <td>84406B</td>\n",
       "      <td>CREAM CUPID HEARTS COAT HANGER</td>\n",
       "      <td>8</td>\n",
       "      <td>2010-12-01 08:26:00</td>\n",
       "      <td>2.75</td>\n",
       "      <td>17850.0</td>\n",
       "      <td>United Kingdom</td>\n",
       "    </tr>\n",
       "    <tr>\n",
       "      <th>3</th>\n",
       "      <td>536365</td>\n",
       "      <td>84029G</td>\n",
       "      <td>KNITTED UNION FLAG HOT WATER BOTTLE</td>\n",
       "      <td>6</td>\n",
       "      <td>2010-12-01 08:26:00</td>\n",
       "      <td>3.39</td>\n",
       "      <td>17850.0</td>\n",
       "      <td>United Kingdom</td>\n",
       "    </tr>\n",
       "    <tr>\n",
       "      <th>4</th>\n",
       "      <td>536365</td>\n",
       "      <td>84029E</td>\n",
       "      <td>RED WOOLLY HOTTIE WHITE HEART.</td>\n",
       "      <td>6</td>\n",
       "      <td>2010-12-01 08:26:00</td>\n",
       "      <td>3.39</td>\n",
       "      <td>17850.0</td>\n",
       "      <td>United Kingdom</td>\n",
       "    </tr>\n",
       "  </tbody>\n",
       "</table>\n",
       "</div>"
      ],
      "text/plain": [
       "  InvoiceNo StockCode                          Description  Quantity  \\\n",
       "0    536365    85123A   WHITE HANGING HEART T-LIGHT HOLDER         6   \n",
       "1    536365     71053                  WHITE METAL LANTERN         6   \n",
       "2    536365    84406B       CREAM CUPID HEARTS COAT HANGER         8   \n",
       "3    536365    84029G  KNITTED UNION FLAG HOT WATER BOTTLE         6   \n",
       "4    536365    84029E       RED WOOLLY HOTTIE WHITE HEART.         6   \n",
       "\n",
       "           InvoiceDate  UnitPrice  CustomerID         Country  \n",
       "0  2010-12-01 08:26:00       2.55     17850.0  United Kingdom  \n",
       "1  2010-12-01 08:26:00       3.39     17850.0  United Kingdom  \n",
       "2  2010-12-01 08:26:00       2.75     17850.0  United Kingdom  \n",
       "3  2010-12-01 08:26:00       3.39     17850.0  United Kingdom  \n",
       "4  2010-12-01 08:26:00       3.39     17850.0  United Kingdom  "
      ]
     },
     "execution_count": 5,
     "metadata": {},
     "output_type": "execute_result"
    }
   ],
   "source": [
    "import pandas as pd\n",
    "\n",
    "# CSV dosyanızla aynı klasördeyse sadece dosya adını yazman yeterli\n",
    "df = pd.read_csv(\"Online Retail.csv\", encoding='ISO-8859-1')  # Türkçe karakterler için encoding önemli\n",
    "\n",
    "# İlk 5 satırı göster\n",
    "df.head()\n"
   ]
  },
  {
   "cell_type": "markdown",
   "id": "5e15322f-328d-4f41-a007-ece151f75681",
   "metadata": {},
   "source": [
    "  ## Veri Temizliği\n",
    "Eksik müşteri ID’si olan satırlar silinir.\n",
    "\n",
    "Satış adedi (Quantity) veya fiyatı (UnitPrice) sıfır ya da negatif olanlar temizlenir.\n",
    "\n",
    "TotalPrice isminde yeni bir sütun oluşturulur."
   ]
  },
  {
   "cell_type": "code",
   "execution_count": 8,
   "id": "01d2c76a-6b05-4505-84c5-27889d47eaa7",
   "metadata": {},
   "outputs": [
    {
     "data": {
      "text/html": [
       "<div>\n",
       "<style scoped>\n",
       "    .dataframe tbody tr th:only-of-type {\n",
       "        vertical-align: middle;\n",
       "    }\n",
       "\n",
       "    .dataframe tbody tr th {\n",
       "        vertical-align: top;\n",
       "    }\n",
       "\n",
       "    .dataframe thead th {\n",
       "        text-align: right;\n",
       "    }\n",
       "</style>\n",
       "<table border=\"1\" class=\"dataframe\">\n",
       "  <thead>\n",
       "    <tr style=\"text-align: right;\">\n",
       "      <th></th>\n",
       "      <th>InvoiceNo</th>\n",
       "      <th>StockCode</th>\n",
       "      <th>Description</th>\n",
       "      <th>Quantity</th>\n",
       "      <th>InvoiceDate</th>\n",
       "      <th>UnitPrice</th>\n",
       "      <th>CustomerID</th>\n",
       "      <th>Country</th>\n",
       "      <th>TotalPrice</th>\n",
       "    </tr>\n",
       "  </thead>\n",
       "  <tbody>\n",
       "    <tr>\n",
       "      <th>0</th>\n",
       "      <td>536365</td>\n",
       "      <td>85123A</td>\n",
       "      <td>WHITE HANGING HEART T-LIGHT HOLDER</td>\n",
       "      <td>6</td>\n",
       "      <td>2010-12-01 08:26:00</td>\n",
       "      <td>2.55</td>\n",
       "      <td>17850.0</td>\n",
       "      <td>United Kingdom</td>\n",
       "      <td>15.30</td>\n",
       "    </tr>\n",
       "    <tr>\n",
       "      <th>1</th>\n",
       "      <td>536365</td>\n",
       "      <td>71053</td>\n",
       "      <td>WHITE METAL LANTERN</td>\n",
       "      <td>6</td>\n",
       "      <td>2010-12-01 08:26:00</td>\n",
       "      <td>3.39</td>\n",
       "      <td>17850.0</td>\n",
       "      <td>United Kingdom</td>\n",
       "      <td>20.34</td>\n",
       "    </tr>\n",
       "    <tr>\n",
       "      <th>2</th>\n",
       "      <td>536365</td>\n",
       "      <td>84406B</td>\n",
       "      <td>CREAM CUPID HEARTS COAT HANGER</td>\n",
       "      <td>8</td>\n",
       "      <td>2010-12-01 08:26:00</td>\n",
       "      <td>2.75</td>\n",
       "      <td>17850.0</td>\n",
       "      <td>United Kingdom</td>\n",
       "      <td>22.00</td>\n",
       "    </tr>\n",
       "    <tr>\n",
       "      <th>3</th>\n",
       "      <td>536365</td>\n",
       "      <td>84029G</td>\n",
       "      <td>KNITTED UNION FLAG HOT WATER BOTTLE</td>\n",
       "      <td>6</td>\n",
       "      <td>2010-12-01 08:26:00</td>\n",
       "      <td>3.39</td>\n",
       "      <td>17850.0</td>\n",
       "      <td>United Kingdom</td>\n",
       "      <td>20.34</td>\n",
       "    </tr>\n",
       "    <tr>\n",
       "      <th>4</th>\n",
       "      <td>536365</td>\n",
       "      <td>84029E</td>\n",
       "      <td>RED WOOLLY HOTTIE WHITE HEART.</td>\n",
       "      <td>6</td>\n",
       "      <td>2010-12-01 08:26:00</td>\n",
       "      <td>3.39</td>\n",
       "      <td>17850.0</td>\n",
       "      <td>United Kingdom</td>\n",
       "      <td>20.34</td>\n",
       "    </tr>\n",
       "  </tbody>\n",
       "</table>\n",
       "</div>"
      ],
      "text/plain": [
       "  InvoiceNo StockCode                          Description  Quantity  \\\n",
       "0    536365    85123A   WHITE HANGING HEART T-LIGHT HOLDER         6   \n",
       "1    536365     71053                  WHITE METAL LANTERN         6   \n",
       "2    536365    84406B       CREAM CUPID HEARTS COAT HANGER         8   \n",
       "3    536365    84029G  KNITTED UNION FLAG HOT WATER BOTTLE         6   \n",
       "4    536365    84029E       RED WOOLLY HOTTIE WHITE HEART.         6   \n",
       "\n",
       "           InvoiceDate  UnitPrice  CustomerID         Country  TotalPrice  \n",
       "0  2010-12-01 08:26:00       2.55     17850.0  United Kingdom       15.30  \n",
       "1  2010-12-01 08:26:00       3.39     17850.0  United Kingdom       20.34  \n",
       "2  2010-12-01 08:26:00       2.75     17850.0  United Kingdom       22.00  \n",
       "3  2010-12-01 08:26:00       3.39     17850.0  United Kingdom       20.34  \n",
       "4  2010-12-01 08:26:00       3.39     17850.0  United Kingdom       20.34  "
      ]
     },
     "execution_count": 8,
     "metadata": {},
     "output_type": "execute_result"
    }
   ],
   "source": [
    "# Eksik değerleri sil (özellikle CustomerID)\n",
    "df.dropna(subset=['CustomerID'], inplace=True)\n",
    "\n",
    "# Negatif veya 0 adetli işlemleri kaldır\n",
    "df = df[df['Quantity'] > 0]\n",
    "df = df[df['UnitPrice'] > 0]\n",
    "\n",
    "# Toplam harcama sütunu ekle\n",
    "df['TotalPrice'] = df['Quantity'] * df['UnitPrice']\n",
    "\n",
    "# İlk 5 satırı göster\n",
    "df.head()\n"
   ]
  },
  {
   "cell_type": "markdown",
   "id": "684cf458-0d93-4adf-9760-14d94bb6a135",
   "metadata": {},
   "source": [
    "## Müşteri Bazlı Özellik Mühendisliği\n",
    "\n",
    "Sipariş sayısı (NumOrders)\n",
    "\n",
    "Toplam ürün adedi (TotalQuantity)\n",
    "\n",
    "Toplam harcama (TotalSpent)\n",
    "\n",
    "Ortalama sipariş başına harcama (AvgSpentPerOrder)"
   ]
  },
  {
   "cell_type": "code",
   "execution_count": 9,
   "id": "a240a613-ac29-4ffa-81b9-fe9358bafd1b",
   "metadata": {},
   "outputs": [
    {
     "data": {
      "text/html": [
       "<div>\n",
       "<style scoped>\n",
       "    .dataframe tbody tr th:only-of-type {\n",
       "        vertical-align: middle;\n",
       "    }\n",
       "\n",
       "    .dataframe tbody tr th {\n",
       "        vertical-align: top;\n",
       "    }\n",
       "\n",
       "    .dataframe thead th {\n",
       "        text-align: right;\n",
       "    }\n",
       "</style>\n",
       "<table border=\"1\" class=\"dataframe\">\n",
       "  <thead>\n",
       "    <tr style=\"text-align: right;\">\n",
       "      <th></th>\n",
       "      <th>CustomerID</th>\n",
       "      <th>NumOrders</th>\n",
       "      <th>TotalQuantity</th>\n",
       "      <th>TotalSpent</th>\n",
       "      <th>AvgSpentPerOrder</th>\n",
       "    </tr>\n",
       "  </thead>\n",
       "  <tbody>\n",
       "    <tr>\n",
       "      <th>0</th>\n",
       "      <td>12346.0</td>\n",
       "      <td>1</td>\n",
       "      <td>74215</td>\n",
       "      <td>77183.60</td>\n",
       "      <td>77183.600000</td>\n",
       "    </tr>\n",
       "    <tr>\n",
       "      <th>1</th>\n",
       "      <td>12347.0</td>\n",
       "      <td>7</td>\n",
       "      <td>2458</td>\n",
       "      <td>4310.00</td>\n",
       "      <td>23.681319</td>\n",
       "    </tr>\n",
       "    <tr>\n",
       "      <th>2</th>\n",
       "      <td>12348.0</td>\n",
       "      <td>4</td>\n",
       "      <td>2341</td>\n",
       "      <td>1797.24</td>\n",
       "      <td>57.975484</td>\n",
       "    </tr>\n",
       "    <tr>\n",
       "      <th>3</th>\n",
       "      <td>12349.0</td>\n",
       "      <td>1</td>\n",
       "      <td>631</td>\n",
       "      <td>1757.55</td>\n",
       "      <td>24.076027</td>\n",
       "    </tr>\n",
       "    <tr>\n",
       "      <th>4</th>\n",
       "      <td>12350.0</td>\n",
       "      <td>1</td>\n",
       "      <td>197</td>\n",
       "      <td>334.40</td>\n",
       "      <td>19.670588</td>\n",
       "    </tr>\n",
       "  </tbody>\n",
       "</table>\n",
       "</div>"
      ],
      "text/plain": [
       "   CustomerID  NumOrders  TotalQuantity  TotalSpent  AvgSpentPerOrder\n",
       "0     12346.0          1          74215    77183.60      77183.600000\n",
       "1     12347.0          7           2458     4310.00         23.681319\n",
       "2     12348.0          4           2341     1797.24         57.975484\n",
       "3     12349.0          1            631     1757.55         24.076027\n",
       "4     12350.0          1            197      334.40         19.670588"
      ]
     },
     "execution_count": 9,
     "metadata": {},
     "output_type": "execute_result"
    }
   ],
   "source": [
    "## Müşteri bazlı gruplama\n",
    "customer_df = df.groupby('CustomerID').agg({\n",
    "    'InvoiceNo': 'nunique',        # kaç farklı sipariş\n",
    "    'Quantity': 'sum',             # toplam ürün adedi\n",
    "    'TotalPrice': ['sum', 'mean']  # toplam ve ortalama harcama\n",
    "})\n",
    "\n",
    "# Sütun isimlerini sadeleştirelim\n",
    "customer_df.columns = ['NumOrders', 'TotalQuantity', 'TotalSpent', 'AvgSpentPerOrder']\n",
    "customer_df.reset_index(inplace=True)\n",
    "\n",
    "# İlk birkaç satırı görelim\n",
    "customer_df.head()\n"
   ]
  },
  {
   "cell_type": "markdown",
   "id": "962ddfa2-d0ba-4552-8cdb-5fd1df2855a8",
   "metadata": {},
   "source": [
    "\n",
    "Şimdi elimizde müşteri bazlı şu 4 özellik var:\n",
    "\n",
    "NumOrders: Müşterinin kaç kez alışveriş yaptığı\n",
    "\n",
    "TotalQuantity: Toplam kaç ürün satın aldığı\n",
    "\n",
    "TotalSpent: Ne kadar para harcadığı\n",
    "\n",
    "AvgSpentPerOrder: Sipariş başına ortalama harcama\n",
    "\n"
   ]
  },
  {
   "cell_type": "markdown",
   "id": "26fb2f74-9537-4035-badc-26b01aa2baf0",
   "metadata": {},
   "source": [
    "## Veriyi Ölçekleme (Standardizasyon)\n",
    "K-Means gibi algoritmalar veri ölçeklerine duyarlıdır. Bu yüzden önce StandardScaler ile verileri aynı ölçeğe getireceğiz."
   ]
  },
  {
   "cell_type": "code",
   "execution_count": 10,
   "id": "23b5df67-51fb-4a26-b446-91b762d3e87f",
   "metadata": {},
   "outputs": [],
   "source": [
    "from sklearn.preprocessing import StandardScaler\n",
    "\n",
    "# Sadece sayısal sütunlar kullanılacak\n",
    "features = ['NumOrders', 'TotalQuantity', 'TotalSpent', 'AvgSpentPerOrder']\n",
    "X = customer_df[features]\n",
    "\n",
    "# Ölçekleme işlemi\n",
    "scaler = StandardScaler()\n",
    "X_scaled = scaler.fit_transform(X)\n"
   ]
  },
  {
   "cell_type": "markdown",
   "id": "5a58982e-9f11-4715-b8cb-530f8b5af6dc",
   "metadata": {},
   "source": [
    "## Uygun Küme Sayısını Belirleme (Elbow Yöntemi)\n",
    "K-Means’te doğru küme sayısını bulmak için Elbow Method kullanılır."
   ]
  },
  {
   "cell_type": "code",
   "execution_count": 11,
   "id": "ce2873f1-6966-4d60-a64f-abd7f5e85d66",
   "metadata": {},
   "outputs": [
    {
     "data": {
      "image/png": "[encoded data removed]",
      "text/plain": [
       "<Figure size 800x500 with 1 Axes>"
      ]
     },
     "metadata": {},
     "output_type": "display_data"
    }
   ],
   "source": [
    "from sklearn.cluster import KMeans\n",
    "import matplotlib.pyplot as plt\n",
    "\n",
    "inertia = []\n",
    "\n",
    "# 1'den 10'a kadar küme sayısını dene\n",
    "for k in range(1, 11):\n",
    "    kmeans = KMeans(n_clusters=k, random_state=42)\n",
    "    kmeans.fit(X_scaled)\n",
    "    inertia.append(kmeans.inertia_)\n",
    "\n",
    "# Grafik çizimi\n",
    "plt.figure(figsize=(8, 5))\n",
    "plt.plot(range(1, 11), inertia, marker='o')\n",
    "plt.xlabel('Küme Sayısı')\n",
    "plt.ylabel('Inertia (Toplam Uzaklık)')\n",
    "plt.title('Elbow Yöntemi ile En İyi Küme Sayısını Belirleme')\n",
    "plt.grid(True)\n",
    "plt.show()\n"
   ]
  },
  {
   "cell_type": "markdown",
   "id": "bb59da5b-8ab2-48be-9c14-5cbd26b965a7",
   "metadata": {},
   "source": [
    "Grafiğe göre dirsek noktası (elbow) 3 veya 4 kümeye işaret ediyor. Genellikle ilk kırılma noktası seçilir, bu durumda k=3 iyi bir başlangıç."
   ]
  },
  {
   "cell_type": "markdown",
   "id": "8ceaa467-6ecc-4e72-858d-899adb5bf038",
   "metadata": {},
   "source": [
    "## K-Means Kümeleme Uygulama\n",
    "Aşağıdaki kodla modelimizi eğitip, her müşteriye bir segment (küme) atayacağız."
   ]
  },
  {
   "cell_type": "code",
   "execution_count": 12,
   "id": "f932b836-68d0-402d-8f9d-80810f42f383",
   "metadata": {},
   "outputs": [
    {
     "data": {
      "text/html": [
       "<div>\n",
       "<style scoped>\n",
       "    .dataframe tbody tr th:only-of-type {\n",
       "        vertical-align: middle;\n",
       "    }\n",
       "\n",
       "    .dataframe tbody tr th {\n",
       "        vertical-align: top;\n",
       "    }\n",
       "\n",
       "    .dataframe thead th {\n",
       "        text-align: right;\n",
       "    }\n",
       "</style>\n",
       "<table border=\"1\" class=\"dataframe\">\n",
       "  <thead>\n",
       "    <tr style=\"text-align: right;\">\n",
       "      <th></th>\n",
       "      <th>CustomerID</th>\n",
       "      <th>NumOrders</th>\n",
       "      <th>TotalQuantity</th>\n",
       "      <th>TotalSpent</th>\n",
       "      <th>AvgSpentPerOrder</th>\n",
       "    </tr>\n",
       "    <tr>\n",
       "      <th>Cluster</th>\n",
       "      <th></th>\n",
       "      <th></th>\n",
       "      <th></th>\n",
       "      <th></th>\n",
       "      <th></th>\n",
       "    </tr>\n",
       "  </thead>\n",
       "  <tbody>\n",
       "    <tr>\n",
       "      <th>0</th>\n",
       "      <td>15300.412827</td>\n",
       "      <td>3.992359</td>\n",
       "      <td>928.879139</td>\n",
       "      <td>1593.554324</td>\n",
       "      <td>36.977749</td>\n",
       "    </tr>\n",
       "    <tr>\n",
       "      <th>1</th>\n",
       "      <td>14396.000000</td>\n",
       "      <td>1.500000</td>\n",
       "      <td>77606.000000</td>\n",
       "      <td>122828.050000</td>\n",
       "      <td>66670.550000</td>\n",
       "    </tr>\n",
       "    <tr>\n",
       "      <th>2</th>\n",
       "      <td>15405.588235</td>\n",
       "      <td>75.647059</td>\n",
       "      <td>58868.882353</td>\n",
       "      <td>104893.569412</td>\n",
       "      <td>203.323377</td>\n",
       "    </tr>\n",
       "  </tbody>\n",
       "</table>\n",
       "</div>"
      ],
      "text/plain": [
       "           CustomerID  NumOrders  TotalQuantity     TotalSpent  \\\n",
       "Cluster                                                          \n",
       "0        15300.412827   3.992359     928.879139    1593.554324   \n",
       "1        14396.000000   1.500000   77606.000000  122828.050000   \n",
       "2        15405.588235  75.647059   58868.882353  104893.569412   \n",
       "\n",
       "         AvgSpentPerOrder  \n",
       "Cluster                    \n",
       "0               36.977749  \n",
       "1            66670.550000  \n",
       "2              203.323377  "
      ]
     },
     "execution_count": 12,
     "metadata": {},
     "output_type": "execute_result"
    }
   ],
   "source": [
    "# K-Means modeli eğitimi\n",
    "kmeans = KMeans(n_clusters=3, random_state=42)\n",
    "customer_df['Cluster'] = kmeans.fit_predict(X_scaled)\n",
    "\n",
    "# Her kümeden örnek göster\n",
    "customer_df.groupby('Cluster').mean()"
   ]
  },
  {
   "cell_type": "markdown",
   "id": "7f30e879-45f0-4fdd-9f36-6e25ee228f0b",
   "metadata": {},
   "source": [
    "Bu çıktı bize:\n",
    "\n",
    "Hangi kümede kaç sipariş var?\n",
    "\n",
    "Hangi küme daha çok harcayan müşteri grubu?\n",
    "\n",
    "Ortalama sipariş miktarları nasıl?\n",
    "\n",
    "gibi bilgileri verir."
   ]
  },
  {
   "cell_type": "markdown",
   "id": "080de856-3542-4970-b105-1016e3a5cf03",
   "metadata": {},
   "source": [
    "## Kümeleme Sonuçlarını Görselleştirme (PCA)"
   ]
  },
  {
   "cell_type": "code",
   "execution_count": 13,
   "id": "e32e2f45-46c0-420e-8207-7be915535716",
   "metadata": {},
   "outputs": [
    {
     "data": {
      "image/png": "[encoded data removed]",
      "text/plain": [
       "<Figure size 800x600 with 2 Axes>"
      ]
     },
     "metadata": {},
     "output_type": "display_data"
    }
   ],
   "source": [
    "from sklearn.decomposition import PCA\n",
    "import matplotlib.pyplot as plt\n",
    "\n",
    "# 2 boyuta indir\n",
    "pca = PCA(n_components=2)\n",
    "X_pca = pca.fit_transform(X_scaled)\n",
    "\n",
    "# Grafik çiz\n",
    "plt.figure(figsize=(8, 6))\n",
    "plt.scatter(X_pca[:, 0], X_pca[:, 1], c=customer_df['Cluster'], cmap='viridis')\n",
    "plt.xlabel('PCA 1')\n",
    "plt.ylabel('PCA 2')\n",
    "plt.title('Müşteri Segmentasyonu (K-Means + PCA)')\n",
    "plt.colorbar(label='Küme')\n",
    "plt.grid(True)\n",
    "plt.show()\n"
   ]
  },
  {
   "cell_type": "code",
   "execution_count": null,
   "id": "5736a029-318f-4d58-b9a1-89d8de367aab",
   "metadata": {},
   "outputs": [],
   "source": []
  }
 ],
 "metadata": {
  "kernelspec": {
   "display_name": "Python 3 (ipykernel)",
   "language": "python",
   "name": "python3"
  },
  "language_info": {
   "codemirror_mode": {
    "name": "ipython",
    "version": 3
   },
   "file_extension": ".py",
   "mimetype": "text/x-python",
   "name": "python",
   "nbconvert_exporter": "python",
   "pygments_lexer": "ipython3",
   "version": "3.12.9"
  }
 },
 "nbformat": 4,
 "nbformat_minor": 5
}
